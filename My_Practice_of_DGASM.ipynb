{
  "nbformat": 4,
  "nbformat_minor": 0,
  "metadata": {
    "colab": {
      "name": "My Practice of DGASM.ipynb",
      "provenance": [],
      "collapsed_sections": []
    },
    "kernelspec": {
      "name": "python3",
      "display_name": "Python 3"
    },
    "language_info": {
      "name": "python"
    }
  },
  "cells": [
    {
      "cell_type": "code",
      "metadata": {
        "id": "f2c5zTuSKGPv"
      },
      "source": [
        "import os\n",
        "x = os.listdir()"
      ],
      "execution_count": 3,
      "outputs": []
    },
    {
      "cell_type": "code",
      "metadata": {
        "colab": {
          "base_uri": "https://localhost:8080/"
        },
        "id": "jPrZg_nzUUII",
        "outputId": "07ff8761-ba77-436c-a824-85de41b8a15f"
      },
      "source": [
        "Atiku = []\n",
        "for data in x:\n",
        "        Atiku.append(data)\n",
        "print(\"success\")"
      ],
      "execution_count": null,
      "outputs": [
        {
          "output_type": "stream",
          "text": [
            "success\n"
          ],
          "name": "stdout"
        }
      ]
    },
    {
      "cell_type": "code",
      "metadata": {
        "colab": {
          "base_uri": "https://localhost:8080/",
          "height": 52
        },
        "id": "5NwzIEgAVV0F",
        "outputId": "61ca00ae-efdc-400b-bf90-9454a75e8980"
      },
      "source": [
        "import pandas as pd\n",
        "for data in Atiku:\n",
        "  print(\"processing \" + data + \"...\")\n",
        "  df = pd.read_json(data, lines=True)\n",
        "df.head()"
      ],
      "execution_count": 1,
      "outputs": [
        {
          "output_type": "execute_result",
          "data": {
            "application/vnd.google.colaboratory.intrinsic+json": {
              "type": "string"
            },
            "text/plain": [
              "'import pandas as pd\\nfor data in Atiku:\\n  print(\"processing \" + data + \"...\")\\n  df = pd.read_json(data, lines=True)\\ndf.head()'"
            ]
          },
          "metadata": {
            "tags": []
          },
          "execution_count": 1
        }
      ]
    },
    {
      "cell_type": "code",
      "metadata": {
        "id": "Zp-BuUEAxhA9",
        "colab": {
          "base_uri": "https://localhost:8080/"
        },
        "outputId": "c9b18694-85ca-4893-89e3-53619953c015"
      },
      "source": [
        "name, tweet, time, location, followers, friends, status_count = [],[],[],[],[],[],[]\n",
        "#Get screen name\n",
        "for line in df.user:\n",
        "  n = line.get(\"screen_name\")\n",
        "  name.append(n)\n",
        "#Get tweet while removing all non-characters\n",
        "for line in df.text:\n",
        "  t = str(line).lower()\n",
        "  t.replace('[^a-zA-Z -]','')\n",
        "  tweet.append(t)\n",
        "#Get time\n",
        "for line in df.created_at:\n",
        "  time.append(line)\n",
        "#Get location while converting it to lower case\n",
        "for line in df.user:\n",
        "  l = line.get('location')\n",
        "  l = str(l).lower()\n",
        "  location.append(l)\n",
        "#Get number of followers\n",
        "for line in df.user:\n",
        "  f = line.get('followers_count')\n",
        "  followers.append(f)\n",
        "#Get friends\n",
        "for line in  df.user:\n",
        "  fr = line.get('friends_count')\n",
        "  friends.append(fr)\n",
        "for line in df.user:\n",
        "  st = line.get('statuses_count')\n",
        "  status_count.append(st)\n",
        "print('done')"
      ],
      "execution_count": null,
      "outputs": [
        {
          "output_type": "stream",
          "text": [
            "done\n"
          ],
          "name": "stdout"
        }
      ]
    },
    {
      "cell_type": "code",
      "metadata": {
        "colab": {
          "base_uri": "https://localhost:8080/"
        },
        "id": "Zr5rLO1RMTsr",
        "outputId": "d961e89d-c498-4f62-d3fe-801d3d548f49"
      },
      "source": [
        "Tweets = pd.DataFrame(columns = ('name', 'tweet', 'time', 'location', 'followers', 'friends', 'status_count' ))\n",
        "Tweets['name'] = name\n",
        "Tweets['tweet'] = tweet\n",
        "Tweets['time'] = time\n",
        "Tweets['location'] = location\n",
        "Tweets['followers'] = followers\n",
        "Tweets['friends'] = friends\n",
        "Tweets['status_count'] = status_count\n",
        "\n",
        "#Write tweets to csv\n",
        "Tweets.to_csv('AtikuData.csv')\n",
        "\n",
        "#Summarize the the data by some parameters\n",
        "location_summary = Tweets.groupby('location').count().sort_values(by='name', ascending=False)\n",
        "name_summary = Tweets.groupby('name').count().sort_values(by='tweet',ascending = False)\n",
        "time_summary = Tweets.groupby('time').count().sort_values(by='name',ascending=False)\n",
        "#Write the data to csv\n",
        "location_summary.to_csv('location_summary.csv')\n",
        "name_summary.to_csv('name_summary.csv')\n",
        "time_summary.to_csv('time_summary.csv')\n",
        "\n",
        "print('completed succesfully')"
      ],
      "execution_count": null,
      "outputs": [
        {
          "output_type": "stream",
          "text": [
            "completed succesfully\n"
          ],
          "name": "stdout"
        }
      ]
    },
    {
      "cell_type": "code",
      "metadata": {
        "colab": {
          "base_uri": "https://localhost:8080/"
        },
        "id": "dQ1Nx01NTGzH",
        "outputId": "e6a07bc4-4463-4ee1-dd17-614d582fe017"
      },
      "source": [
        "#To set pandas to view the entire width of each column\n",
        "pd.set_option('display.max_colwidth',-1)"
      ],
      "execution_count": null,
      "outputs": [
        {
          "output_type": "stream",
          "text": [
            "/usr/local/lib/python3.7/dist-packages/ipykernel_launcher.py:1: FutureWarning: Passing a negative integer is deprecated in version 1.0 and will not be supported in future version. Instead, use None to not limit the column width.\n",
            "  \"\"\"Entry point for launching an IPython kernel.\n"
          ],
          "name": "stderr"
        }
      ]
    },
    {
      "cell_type": "code",
      "metadata": {
        "id": "1h7KbBMstDA_",
        "colab": {
          "base_uri": "https://localhost:8080/",
          "height": 306
        },
        "outputId": "e835e0ad-b92f-43fd-cf30-9257d39dc96b"
      },
      "source": [
        "import pandas as pd\n",
        "df = pd.read_csv('AtikuData.csv')\n",
        "df.head()"
      ],
      "execution_count": 4,
      "outputs": [
        {
          "output_type": "execute_result",
          "data": {
            "text/html": [
              "<div>\n",
              "<style scoped>\n",
              "    .dataframe tbody tr th:only-of-type {\n",
              "        vertical-align: middle;\n",
              "    }\n",
              "\n",
              "    .dataframe tbody tr th {\n",
              "        vertical-align: top;\n",
              "    }\n",
              "\n",
              "    .dataframe thead th {\n",
              "        text-align: right;\n",
              "    }\n",
              "</style>\n",
              "<table border=\"1\" class=\"dataframe\">\n",
              "  <thead>\n",
              "    <tr style=\"text-align: right;\">\n",
              "      <th></th>\n",
              "      <th>Unnamed: 0</th>\n",
              "      <th>name</th>\n",
              "      <th>tweet</th>\n",
              "      <th>time</th>\n",
              "      <th>location</th>\n",
              "      <th>followers</th>\n",
              "      <th>friends</th>\n",
              "      <th>status_count</th>\n",
              "    </tr>\n",
              "  </thead>\n",
              "  <tbody>\n",
              "    <tr>\n",
              "      <th>0</th>\n",
              "      <td>0</td>\n",
              "      <td>Vendetta111</td>\n",
              "      <td>@saharareporters @atiku just out of curiosity,...</td>\n",
              "      <td>2019-01-03 14:09:53+00:00</td>\n",
              "      <td>malaysia</td>\n",
              "      <td>64</td>\n",
              "      <td>230</td>\n",
              "      <td>188</td>\n",
              "    </tr>\n",
              "    <tr>\n",
              "      <th>1</th>\n",
              "      <td>1</td>\n",
              "      <td>EddyJay85897135</td>\n",
              "      <td>@ogundamisi @officialpdpnig @atiku @awtambuwal...</td>\n",
              "      <td>2019-01-03 14:09:53+00:00</td>\n",
              "      <td>commonwealth</td>\n",
              "      <td>18</td>\n",
              "      <td>51</td>\n",
              "      <td>377</td>\n",
              "    </tr>\n",
              "    <tr>\n",
              "      <th>2</th>\n",
              "      <td>2</td>\n",
              "      <td>abradbassam</td>\n",
              "      <td>@youthsforatiku where will the money come from...</td>\n",
              "      <td>2019-01-03 14:09:55+00:00</td>\n",
              "      <td>none</td>\n",
              "      <td>7</td>\n",
              "      <td>48</td>\n",
              "      <td>441</td>\n",
              "    </tr>\n",
              "    <tr>\n",
              "      <th>3</th>\n",
              "      <td>3</td>\n",
              "      <td>doncharlo_1</td>\n",
              "      <td>@kcnaija fear they catch them.  i honestly exp...</td>\n",
              "      <td>2019-01-03 14:09:59+00:00</td>\n",
              "      <td>none</td>\n",
              "      <td>64</td>\n",
              "      <td>378</td>\n",
              "      <td>1204</td>\n",
              "    </tr>\n",
              "    <tr>\n",
              "      <th>4</th>\n",
              "      <td>4</td>\n",
              "      <td>MuhdSheikh1</td>\n",
              "      <td>rt @fkeyamo: throw-in the towel, keyamo hits a...</td>\n",
              "      <td>2019-01-03 14:10:00+00:00</td>\n",
              "      <td>nigeria</td>\n",
              "      <td>436</td>\n",
              "      <td>1169</td>\n",
              "      <td>21362</td>\n",
              "    </tr>\n",
              "  </tbody>\n",
              "</table>\n",
              "</div>"
            ],
            "text/plain": [
              "   Unnamed: 0             name  ... friends status_count\n",
              "0           0      Vendetta111  ...     230          188\n",
              "1           1  EddyJay85897135  ...      51          377\n",
              "2           2      abradbassam  ...      48          441\n",
              "3           3      doncharlo_1  ...     378         1204\n",
              "4           4      MuhdSheikh1  ...    1169        21362\n",
              "\n",
              "[5 rows x 8 columns]"
            ]
          },
          "metadata": {
            "tags": []
          },
          "execution_count": 4
        }
      ]
    },
    {
      "cell_type": "code",
      "metadata": {
        "colab": {
          "base_uri": "https://localhost:8080/",
          "height": 289
        },
        "id": "8WVrChJ6B1bT",
        "outputId": "e98cf56a-1ff9-4e8c-9438-67fd849822e9"
      },
      "source": [
        "#Remove Unnamed: 0 column\n",
        "df.drop('Unnamed: 0',axis=1, inplace= True)\n",
        "\n",
        "#Create new columns to separate time from date \n",
        "df['date'] = df.loc[:,'time'].map(lambda x: x.replace(x[10:],''))\n",
        "df['time'] = df.loc[:,'time'].map(lambda x: x.replace(x[:10],''))\n",
        "\n",
        "#sort the tweets by their date and time\n",
        "Tweets_by_Date = df.sort_values(['time','date'],ascending = True)\n",
        "\n",
        "Tweets_by_Date.head()"
      ],
      "execution_count": 6,
      "outputs": [
        {
          "output_type": "execute_result",
          "data": {
            "text/html": [
              "<div>\n",
              "<style scoped>\n",
              "    .dataframe tbody tr th:only-of-type {\n",
              "        vertical-align: middle;\n",
              "    }\n",
              "\n",
              "    .dataframe tbody tr th {\n",
              "        vertical-align: top;\n",
              "    }\n",
              "\n",
              "    .dataframe thead th {\n",
              "        text-align: right;\n",
              "    }\n",
              "</style>\n",
              "<table border=\"1\" class=\"dataframe\">\n",
              "  <thead>\n",
              "    <tr style=\"text-align: right;\">\n",
              "      <th></th>\n",
              "      <th>name</th>\n",
              "      <th>tweet</th>\n",
              "      <th>time</th>\n",
              "      <th>location</th>\n",
              "      <th>followers</th>\n",
              "      <th>friends</th>\n",
              "      <th>status_count</th>\n",
              "      <th>date</th>\n",
              "    </tr>\n",
              "  </thead>\n",
              "  <tbody>\n",
              "    <tr>\n",
              "      <th>0</th>\n",
              "      <td>Vendetta111</td>\n",
              "      <td>@saharareporters @atiku just out of curiosity,...</td>\n",
              "      <td>14:09:53+00:00</td>\n",
              "      <td>malaysia</td>\n",
              "      <td>64</td>\n",
              "      <td>230</td>\n",
              "      <td>188</td>\n",
              "      <td>2019-01-03</td>\n",
              "    </tr>\n",
              "    <tr>\n",
              "      <th>1</th>\n",
              "      <td>EddyJay85897135</td>\n",
              "      <td>@ogundamisi @officialpdpnig @atiku @awtambuwal...</td>\n",
              "      <td>14:09:53+00:00</td>\n",
              "      <td>commonwealth</td>\n",
              "      <td>18</td>\n",
              "      <td>51</td>\n",
              "      <td>377</td>\n",
              "      <td>2019-01-03</td>\n",
              "    </tr>\n",
              "    <tr>\n",
              "      <th>2</th>\n",
              "      <td>abradbassam</td>\n",
              "      <td>@youthsforatiku where will the money come from...</td>\n",
              "      <td>14:09:55+00:00</td>\n",
              "      <td>none</td>\n",
              "      <td>7</td>\n",
              "      <td>48</td>\n",
              "      <td>441</td>\n",
              "      <td>2019-01-03</td>\n",
              "    </tr>\n",
              "    <tr>\n",
              "      <th>3</th>\n",
              "      <td>doncharlo_1</td>\n",
              "      <td>@kcnaija fear they catch them.  i honestly exp...</td>\n",
              "      <td>14:09:59+00:00</td>\n",
              "      <td>none</td>\n",
              "      <td>64</td>\n",
              "      <td>378</td>\n",
              "      <td>1204</td>\n",
              "      <td>2019-01-03</td>\n",
              "    </tr>\n",
              "    <tr>\n",
              "      <th>4</th>\n",
              "      <td>MuhdSheikh1</td>\n",
              "      <td>rt @fkeyamo: throw-in the towel, keyamo hits a...</td>\n",
              "      <td>14:10:00+00:00</td>\n",
              "      <td>nigeria</td>\n",
              "      <td>436</td>\n",
              "      <td>1169</td>\n",
              "      <td>21362</td>\n",
              "      <td>2019-01-03</td>\n",
              "    </tr>\n",
              "  </tbody>\n",
              "</table>\n",
              "</div>"
            ],
            "text/plain": [
              "              name  ...        date\n",
              "0      Vendetta111  ...  2019-01-03\n",
              "1  EddyJay85897135  ...  2019-01-03\n",
              "2      abradbassam  ...  2019-01-03\n",
              "3      doncharlo_1  ...  2019-01-03\n",
              "4      MuhdSheikh1  ...  2019-01-03\n",
              "\n",
              "[5 rows x 8 columns]"
            ]
          },
          "metadata": {
            "tags": []
          },
          "execution_count": 6
        }
      ]
    },
    {
      "cell_type": "code",
      "metadata": {
        "colab": {
          "base_uri": "https://localhost:8080/",
          "height": 374
        },
        "id": "JyPk2XexDpOM",
        "outputId": "c6b49594-b3fd-4f87-a149-1b939a4c615b"
      },
      "source": [
        "#Sentiment Analysis\n",
        "Candidates_Tweets = Tweets_by_Date.tweet\n",
        "#Change to lower case\n",
        "Candidates_Tweets = Candidates_Tweets.map(lambda x: str(x).lower())\n",
        "#Remove non-characters\n",
        "Candidates_Tweets = Candidates_Tweets.map(lambda x: x.replace('[^a-zA-Z]', ''))\n",
        "#Candidates_Tweets.head()\n",
        "#Define the variables\n",
        "sentiment = []\n",
        "polarity = 0\n",
        "positive = 0\n",
        "negative = 0\n",
        "neutral = 0\n",
        "\n",
        "from textblob import TextBlob\n",
        "import matplotlib.pyplot as plt\n",
        "for tweet in Candidates_Tweets:\n",
        "  analysis = TextBlob(tweet)\n",
        "  polarity += analysis.sentiment.polarity\n",
        "  if analysis.sentiment.polarity ==0:\n",
        "    sentiment.append('neutral')\n",
        "  elif analysis.sentiment.polarity < 0.00:\n",
        "    sentiment.append('negative')\n",
        "  elif analysis.sentiment.polarity > 0.00:\n",
        "    sentiment.append('positve')\n",
        "print('done with sentiment analysis')\n",
        "\n",
        "#Add sentiments as a column to Tweets_by_Date\n",
        "Tweets_by_Date['sentiments'] = sentiment\n",
        "Tweets_by_Date.head() "
      ],
      "execution_count": 7,
      "outputs": [
        {
          "output_type": "stream",
          "text": [
            "done with sentiment analysis\n"
          ],
          "name": "stdout"
        },
        {
          "output_type": "execute_result",
          "data": {
            "text/html": [
              "<div>\n",
              "<style scoped>\n",
              "    .dataframe tbody tr th:only-of-type {\n",
              "        vertical-align: middle;\n",
              "    }\n",
              "\n",
              "    .dataframe tbody tr th {\n",
              "        vertical-align: top;\n",
              "    }\n",
              "\n",
              "    .dataframe thead th {\n",
              "        text-align: right;\n",
              "    }\n",
              "</style>\n",
              "<table border=\"1\" class=\"dataframe\">\n",
              "  <thead>\n",
              "    <tr style=\"text-align: right;\">\n",
              "      <th></th>\n",
              "      <th>name</th>\n",
              "      <th>tweet</th>\n",
              "      <th>time</th>\n",
              "      <th>location</th>\n",
              "      <th>followers</th>\n",
              "      <th>friends</th>\n",
              "      <th>status_count</th>\n",
              "      <th>date</th>\n",
              "      <th>sentiments</th>\n",
              "    </tr>\n",
              "  </thead>\n",
              "  <tbody>\n",
              "    <tr>\n",
              "      <th>0</th>\n",
              "      <td>Vendetta111</td>\n",
              "      <td>@saharareporters @atiku just out of curiosity,...</td>\n",
              "      <td>14:09:53+00:00</td>\n",
              "      <td>malaysia</td>\n",
              "      <td>64</td>\n",
              "      <td>230</td>\n",
              "      <td>188</td>\n",
              "      <td>2019-01-03</td>\n",
              "      <td>neutral</td>\n",
              "    </tr>\n",
              "    <tr>\n",
              "      <th>1</th>\n",
              "      <td>EddyJay85897135</td>\n",
              "      <td>@ogundamisi @officialpdpnig @atiku @awtambuwal...</td>\n",
              "      <td>14:09:53+00:00</td>\n",
              "      <td>commonwealth</td>\n",
              "      <td>18</td>\n",
              "      <td>51</td>\n",
              "      <td>377</td>\n",
              "      <td>2019-01-03</td>\n",
              "      <td>neutral</td>\n",
              "    </tr>\n",
              "    <tr>\n",
              "      <th>2</th>\n",
              "      <td>abradbassam</td>\n",
              "      <td>@youthsforatiku where will the money come from...</td>\n",
              "      <td>14:09:55+00:00</td>\n",
              "      <td>none</td>\n",
              "      <td>7</td>\n",
              "      <td>48</td>\n",
              "      <td>441</td>\n",
              "      <td>2019-01-03</td>\n",
              "      <td>positve</td>\n",
              "    </tr>\n",
              "    <tr>\n",
              "      <th>3</th>\n",
              "      <td>doncharlo_1</td>\n",
              "      <td>@kcnaija fear they catch them.  i honestly exp...</td>\n",
              "      <td>14:09:59+00:00</td>\n",
              "      <td>none</td>\n",
              "      <td>64</td>\n",
              "      <td>378</td>\n",
              "      <td>1204</td>\n",
              "      <td>2019-01-03</td>\n",
              "      <td>positve</td>\n",
              "    </tr>\n",
              "    <tr>\n",
              "      <th>4</th>\n",
              "      <td>MuhdSheikh1</td>\n",
              "      <td>rt @fkeyamo: throw-in the towel, keyamo hits a...</td>\n",
              "      <td>14:10:00+00:00</td>\n",
              "      <td>nigeria</td>\n",
              "      <td>436</td>\n",
              "      <td>1169</td>\n",
              "      <td>21362</td>\n",
              "      <td>2019-01-03</td>\n",
              "      <td>neutral</td>\n",
              "    </tr>\n",
              "  </tbody>\n",
              "</table>\n",
              "</div>"
            ],
            "text/plain": [
              "              name  ... sentiments\n",
              "0      Vendetta111  ...    neutral\n",
              "1  EddyJay85897135  ...    neutral\n",
              "2      abradbassam  ...    positve\n",
              "3      doncharlo_1  ...    positve\n",
              "4      MuhdSheikh1  ...    neutral\n",
              "\n",
              "[5 rows x 9 columns]"
            ]
          },
          "metadata": {
            "tags": []
          },
          "execution_count": 7
        }
      ]
    },
    {
      "cell_type": "code",
      "metadata": {
        "id": "jW-v4OKVHvbi"
      },
      "source": [
        "#Save Tweets by date as a csv file, then analyse with Power BI, Tablaeu or any other convenient visualization tool\n",
        "Tweets_by_Date.to_csv('Tweets_by_Date.csv')"
      ],
      "execution_count": 9,
      "outputs": []
    }
  ]
}